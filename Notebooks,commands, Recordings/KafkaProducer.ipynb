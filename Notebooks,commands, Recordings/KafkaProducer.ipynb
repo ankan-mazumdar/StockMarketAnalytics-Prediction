{
 "cells": [
  {
   "cell_type": "code",
   "execution_count": 1,
   "id": "e2d3f594",
   "metadata": {
    "scrolled": true
   },
   "outputs": [
    {
     "name": "stdout",
     "output_type": "stream",
     "text": [
      "Collecting kafka-python\n",
      "  Obtaining dependency information for kafka-python from https://files.pythonhosted.org/packages/75/68/dcb0db055309f680ab2931a3eeb22d865604b638acf8c914bedf4c1a0c8c/kafka_python-2.0.2-py2.py3-none-any.whl.metadata\n",
      "  Downloading kafka_python-2.0.2-py2.py3-none-any.whl.metadata (7.8 kB)\n",
      "Downloading kafka_python-2.0.2-py2.py3-none-any.whl (246 kB)\n",
      "   ---------------------------------------- 0.0/246.5 kB ? eta -:--:--\n",
      "   - -------------------------------------- 10.2/246.5 kB ? eta -:--:--\n",
      "   --------- ------------------------------ 61.4/246.5 kB 1.1 MB/s eta 0:00:01\n",
      "   ------------------- -------------------- 122.9/246.5 kB 1.2 MB/s eta 0:00:01\n",
      "   ------------------------ --------------- 153.6/246.5 kB 1.1 MB/s eta 0:00:01\n",
      "   --------------------------------- ------ 204.8/246.5 kB 1.1 MB/s eta 0:00:01\n",
      "   ---------------------------------------- 246.5/246.5 kB 1.1 MB/s eta 0:00:00\n",
      "Installing collected packages: kafka-python\n",
      "Successfully installed kafka-python-2.0.2\n",
      "Note: you may need to restart the kernel to use updated packages.\n"
     ]
    }
   ],
   "source": [
    "pip install kafka-python"
   ]
  },
  {
   "cell_type": "code",
   "execution_count": 45,
   "id": "f19405f0",
   "metadata": {},
   "outputs": [],
   "source": [
    "import pandas as pd\n",
    "from kafka import KafkaProducer\n",
    "from time import sleep\n",
    "from json import dumps\n",
    "import json"
   ]
  },
  {
   "cell_type": "code",
   "execution_count": 63,
   "id": "b483a0e4",
   "metadata": {},
   "outputs": [],
   "source": [
    "producer = KafkaProducer(bootstrap_servers=['52.86.95.232:9092'], #change ip here\n",
    "                         value_serializer=lambda x: \n",
    "                         dumps(x).encode('utf-8'))"
   ]
  },
  {
   "cell_type": "code",
   "execution_count": 65,
   "id": "0c30b915",
   "metadata": {},
   "outputs": [
    {
     "data": {
      "text/plain": [
       "<kafka.producer.future.FutureRecordMetadata at 0x210849ebf90>"
      ]
     },
     "execution_count": 65,
     "metadata": {},
     "output_type": "execute_result"
    }
   ],
   "source": [
    "producer.send('demo_test2', value={'Name':'Ankan'})"
   ]
  },
  {
   "cell_type": "code",
   "execution_count": 24,
   "id": "cc8d45aa",
   "metadata": {},
   "outputs": [],
   "source": [
    "df = pd.read_csv(\"indexProcessed.csv\")"
   ]
  },
  {
   "cell_type": "code",
   "execution_count": 25,
   "id": "113a2516",
   "metadata": {},
   "outputs": [
    {
     "data": {
      "text/html": [
       "<div>\n",
       "<style scoped>\n",
       "    .dataframe tbody tr th:only-of-type {\n",
       "        vertical-align: middle;\n",
       "    }\n",
       "\n",
       "    .dataframe tbody tr th {\n",
       "        vertical-align: top;\n",
       "    }\n",
       "\n",
       "    .dataframe thead th {\n",
       "        text-align: right;\n",
       "    }\n",
       "</style>\n",
       "<table border=\"1\" class=\"dataframe\">\n",
       "  <thead>\n",
       "    <tr style=\"text-align: right;\">\n",
       "      <th></th>\n",
       "      <th>Index</th>\n",
       "      <th>Date</th>\n",
       "      <th>Open</th>\n",
       "      <th>High</th>\n",
       "      <th>Low</th>\n",
       "      <th>Close</th>\n",
       "      <th>Adj Close</th>\n",
       "      <th>Volume</th>\n",
       "      <th>CloseUSD</th>\n",
       "    </tr>\n",
       "  </thead>\n",
       "  <tbody>\n",
       "    <tr>\n",
       "      <th>0</th>\n",
       "      <td>HSI</td>\n",
       "      <td>1986-12-31</td>\n",
       "      <td>2568.300049</td>\n",
       "      <td>2568.300049</td>\n",
       "      <td>2568.300049</td>\n",
       "      <td>2568.300049</td>\n",
       "      <td>2568.300049</td>\n",
       "      <td>0.0</td>\n",
       "      <td>333.879006</td>\n",
       "    </tr>\n",
       "    <tr>\n",
       "      <th>1</th>\n",
       "      <td>HSI</td>\n",
       "      <td>1987-01-02</td>\n",
       "      <td>2540.100098</td>\n",
       "      <td>2540.100098</td>\n",
       "      <td>2540.100098</td>\n",
       "      <td>2540.100098</td>\n",
       "      <td>2540.100098</td>\n",
       "      <td>0.0</td>\n",
       "      <td>330.213013</td>\n",
       "    </tr>\n",
       "    <tr>\n",
       "      <th>2</th>\n",
       "      <td>HSI</td>\n",
       "      <td>1987-01-05</td>\n",
       "      <td>2552.399902</td>\n",
       "      <td>2552.399902</td>\n",
       "      <td>2552.399902</td>\n",
       "      <td>2552.399902</td>\n",
       "      <td>2552.399902</td>\n",
       "      <td>0.0</td>\n",
       "      <td>331.811987</td>\n",
       "    </tr>\n",
       "    <tr>\n",
       "      <th>3</th>\n",
       "      <td>HSI</td>\n",
       "      <td>1987-01-06</td>\n",
       "      <td>2583.899902</td>\n",
       "      <td>2583.899902</td>\n",
       "      <td>2583.899902</td>\n",
       "      <td>2583.899902</td>\n",
       "      <td>2583.899902</td>\n",
       "      <td>0.0</td>\n",
       "      <td>335.906987</td>\n",
       "    </tr>\n",
       "    <tr>\n",
       "      <th>4</th>\n",
       "      <td>HSI</td>\n",
       "      <td>1987-01-07</td>\n",
       "      <td>2607.100098</td>\n",
       "      <td>2607.100098</td>\n",
       "      <td>2607.100098</td>\n",
       "      <td>2607.100098</td>\n",
       "      <td>2607.100098</td>\n",
       "      <td>0.0</td>\n",
       "      <td>338.923013</td>\n",
       "    </tr>\n",
       "  </tbody>\n",
       "</table>\n",
       "</div>"
      ],
      "text/plain": [
       "  Index        Date         Open         High          Low        Close  \\\n",
       "0   HSI  1986-12-31  2568.300049  2568.300049  2568.300049  2568.300049   \n",
       "1   HSI  1987-01-02  2540.100098  2540.100098  2540.100098  2540.100098   \n",
       "2   HSI  1987-01-05  2552.399902  2552.399902  2552.399902  2552.399902   \n",
       "3   HSI  1987-01-06  2583.899902  2583.899902  2583.899902  2583.899902   \n",
       "4   HSI  1987-01-07  2607.100098  2607.100098  2607.100098  2607.100098   \n",
       "\n",
       "     Adj Close  Volume    CloseUSD  \n",
       "0  2568.300049     0.0  333.879006  \n",
       "1  2540.100098     0.0  330.213013  \n",
       "2  2552.399902     0.0  331.811987  \n",
       "3  2583.899902     0.0  335.906987  \n",
       "4  2607.100098     0.0  338.923013  "
      ]
     },
     "execution_count": 25,
     "metadata": {},
     "output_type": "execute_result"
    }
   ],
   "source": [
    "df.head()"
   ]
  },
  {
   "cell_type": "code",
   "execution_count": 26,
   "id": "4c7ec0be",
   "metadata": {},
   "outputs": [],
   "source": [
    "# for _ in range(5):\n",
    "    dict_stock = df.sample(1).to_dict(orient=\"records\")[0]\n",
    "    producer.send('demo_test2', value=dict_stock)\n",
    "    sleep(1)#to help this small machine which don't have distributed computing , have it halt for 1 sec o9ther wise, it will break   "
   ]
  },
  {
   "cell_type": "code",
   "execution_count": 23,
   "id": "30786fe9",
   "metadata": {},
   "outputs": [],
   "source": [
    "producer.flush() #clear data from kafka server"
   ]
  },
  {
   "cell_type": "code",
   "execution_count": 28,
   "id": "5991d10f",
   "metadata": {},
   "outputs": [
    {
     "name": "stdout",
     "output_type": "stream",
     "text": [
      "Note: you may need to restart the kernel to use updated packages.Collecting yfinance\n",
      "  Obtaining dependency information for yfinance from https://files.pythonhosted.org/packages/db/fc/10b7d339ccf6725e13408d76fb1e944f512590a949af426503c38d4af712/yfinance-0.2.41-py2.py3-none-any.whl.metadata\n",
      "  Downloading yfinance-0.2.41-py2.py3-none-any.whl.metadata (11 kB)\n",
      "Requirement already satisfied: pandas>=1.3.0 in c:\\users\\ankan mazumdar\\anaconda3\\lib\\site-packages (from yfinance) (1.5.3)\n",
      "Requirement already satisfied: numpy>=1.16.5 in c:\\users\\ankan mazumdar\\anaconda3\\lib\\site-packages (from yfinance) (1.24.3)\n",
      "Requirement already satisfied: requests>=2.31 in c:\\users\\ankan mazumdar\\anaconda3\\lib\\site-packages (from yfinance) (2.31.0)\n",
      "Collecting multitasking>=0.0.7 (from yfinance)\n",
      "  Obtaining dependency information for multitasking>=0.0.7 from https://files.pythonhosted.org/packages/3e/8a/bb3160e76e844db9e69a413f055818969c8acade64e1a9ac5ce9dfdcf6c1/multitasking-0.0.11-py3-none-any.whl.metadata\n",
      "  Downloading multitasking-0.0.11-py3-none-any.whl.metadata (5.5 kB)\n",
      "Requirement already satisfied: lxml>=4.9.1 in c:\\users\\ankan mazumdar\\anaconda3\\lib\\site-packages (from yfinance) (4.9.2)\n",
      "Requirement already satisfied: platformdirs>=2.0.0 in c:\\users\\ankan mazumdar\\anaconda3\\lib\\site-packages (from yfinance) (2.5.2)\n",
      "Requirement already satisfied: pytz>=2022.5 in c:\\users\\ankan mazumdar\\anaconda3\\lib\\site-packages (from yfinance) (2022.7)\n",
      "Collecting frozendict>=2.3.4 (from yfinance)\n",
      "  Obtaining dependency information for frozendict>=2.3.4 from https://files.pythonhosted.org/packages/6a/71/3656c00606e75e81f11721e6a1c973c3e03da8c7d8b665d20f78245384c6/frozendict-2.4.4-py311-none-any.whl.metadata\n",
      "  Downloading frozendict-2.4.4-py311-none-any.whl.metadata (23 kB)\n",
      "Collecting peewee>=3.16.2 (from yfinance)\n",
      "  Downloading peewee-3.17.6.tar.gz (3.0 MB)\n",
      "     ---------------------------------------- 0.0/3.0 MB ? eta -:--:--\n",
      "      --------------------------------------- 0.1/3.0 MB 3.2 MB/s eta 0:00:01\n",
      "     -- ------------------------------------- 0.2/3.0 MB 2.4 MB/s eta 0:00:02\n",
      "     --- ------------------------------------ 0.3/3.0 MB 2.9 MB/s eta 0:00:01\n",
      "     ---- ----------------------------------- 0.3/3.0 MB 2.7 MB/s eta 0:00:01\n",
      "     ---- ----------------------------------- 0.4/3.0 MB 2.1 MB/s eta 0:00:02\n",
      "     ----- ---------------------------------- 0.4/3.0 MB 1.9 MB/s eta 0:00:02\n",
      "     ------ --------------------------------- 0.5/3.0 MB 1.7 MB/s eta 0:00:02\n",
      "     -------- ------------------------------- 0.6/3.0 MB 2.0 MB/s eta 0:00:02\n",
      "     -------- ------------------------------- 0.6/3.0 MB 1.9 MB/s eta 0:00:02\n",
      "     ---------- ----------------------------- 0.8/3.0 MB 1.9 MB/s eta 0:00:02\n",
      "     ---------- ----------------------------- 0.8/3.0 MB 1.9 MB/s eta 0:00:02\n",
      "     ----------- ---------------------------- 0.9/3.0 MB 1.8 MB/s eta 0:00:02\n",
      "     ------------ --------------------------- 1.0/3.0 MB 1.9 MB/s eta 0:00:02\n",
      "     ------------- -------------------------- 1.0/3.0 MB 1.8 MB/s eta 0:00:02\n",
      "     -------------- ------------------------- 1.0/3.0 MB 1.7 MB/s eta 0:00:02\n",
      "     -------------- ------------------------- 1.1/3.0 MB 1.7 MB/s eta 0:00:02\n",
      "     --------------- ------------------------ 1.1/3.0 MB 1.7 MB/s eta 0:00:02\n",
      "     ---------------- ----------------------- 1.2/3.0 MB 1.7 MB/s eta 0:00:02\n",
      "     ---------------- ----------------------- 1.2/3.0 MB 1.6 MB/s eta 0:00:02\n",
      "     ----------------- ---------------------- 1.3/3.0 MB 1.6 MB/s eta 0:00:02\n",
      "     ----------------- ---------------------- 1.3/3.0 MB 1.6 MB/s eta 0:00:02\n",
      "     ----------------- ---------------------- 1.3/3.0 MB 1.5 MB/s eta 0:00:02\n",
      "     ------------------ --------------------- 1.3/3.0 MB 1.4 MB/s eta 0:00:02\n",
      "     ------------------ --------------------- 1.4/3.0 MB 1.5 MB/s eta 0:00:02\n",
      "     ------------------ --------------------- 1.4/3.0 MB 1.5 MB/s eta 0:00:02\n",
      "     ------------------ --------------------- 1.4/3.0 MB 1.3 MB/s eta 0:00:02\n",
      "     ------------------- -------------------- 1.4/3.0 MB 1.3 MB/s eta 0:00:02\n",
      "     ------------------- -------------------- 1.4/3.0 MB 1.3 MB/s eta 0:00:02\n",
      "     ------------------- -------------------- 1.4/3.0 MB 1.3 MB/s eta 0:00:02\n",
      "     -------------------- ------------------- 1.5/3.0 MB 1.2 MB/s eta 0:00:02\n",
      "     -------------------- ------------------- 1.5/3.0 MB 1.2 MB/s eta 0:00:02\n",
      "     -------------------- ------------------- 1.5/3.0 MB 1.2 MB/s eta 0:00:02\n",
      "     --------------------- ------------------ 1.6/3.0 MB 1.2 MB/s eta 0:00:02\n",
      "     --------------------- ------------------ 1.6/3.0 MB 1.2 MB/s eta 0:00:02\n",
      "     --------------------- ------------------ 1.6/3.0 MB 1.1 MB/s eta 0:00:02\n",
      "     --------------------- ------------------ 1.6/3.0 MB 1.1 MB/s eta 0:00:02\n",
      "     --------------------- ------------------ 1.6/3.0 MB 1.1 MB/s eta 0:00:02\n",
      "     ---------------------- ----------------- 1.7/3.0 MB 1.1 MB/s eta 0:00:02\n",
      "     ---------------------- ----------------- 1.7/3.0 MB 1.1 MB/s eta 0:00:02\n",
      "     ----------------------- ---------------- 1.7/3.0 MB 1.1 MB/s eta 0:00:02\n",
      "     ----------------------- ---------------- 1.8/3.0 MB 1.1 MB/s eta 0:00:02\n",
      "     ----------------------- ---------------- 1.8/3.0 MB 1.1 MB/s eta 0:00:02\n",
      "     ------------------------ --------------- 1.8/3.0 MB 1.0 MB/s eta 0:00:02\n",
      "     ------------------------ --------------- 1.8/3.0 MB 1.0 MB/s eta 0:00:02\n",
      "     ------------------------ --------------- 1.8/3.0 MB 1.0 MB/s eta 0:00:02\n",
      "     ------------------------- -------------- 1.9/3.0 MB 996.5 kB/s eta 0:00:02\n",
      "     ------------------------- -------------- 1.9/3.0 MB 991.0 kB/s eta 0:00:02\n",
      "     -------------------------- ------------- 1.9/3.0 MB 991.0 kB/s eta 0:00:02\n",
      "     -------------------------- ------------- 2.0/3.0 MB 993.3 kB/s eta 0:00:01\n",
      "     --------------------------- ------------ 2.0/3.0 MB 993.2 kB/s eta 0:00:01\n",
      "     ---------------------------- ----------- 2.1/3.0 MB 995.4 kB/s eta 0:00:01\n",
      "     ---------------------------- ----------- 2.1/3.0 MB 994.9 kB/s eta 0:00:01\n",
      "     ---------------------------- ----------- 2.1/3.0 MB 975.9 kB/s eta 0:00:01\n",
      "     ----------------------------- ---------- 2.2/3.0 MB 969.1 kB/s eta 0:00:01\n",
      "     ----------------------------- ---------- 2.2/3.0 MB 965.2 kB/s eta 0:00:01\n",
      "     ------------------------------- -------- 2.3/3.0 MB 980.9 kB/s eta 0:00:01\n",
      "     ------------------------------- -------- 2.3/3.0 MB 974.4 kB/s eta 0:00:01\n",
      "     ------------------------------- -------- 2.4/3.0 MB 974.6 kB/s eta 0:00:01\n",
      "     -------------------------------- ------- 2.4/3.0 MB 976.8 kB/s eta 0:00:01\n",
      "     -------------------------------- ------- 2.4/3.0 MB 978.8 kB/s eta 0:00:01\n",
      "     --------------------------------- ------ 2.5/3.0 MB 960.9 kB/s eta 0:00:01\n",
      "     --------------------------------- ------ 2.5/3.0 MB 966.9 kB/s eta 0:00:01\n",
      "     ---------------------------------- ----- 2.5/3.0 MB 953.8 kB/s eta 0:00:01\n",
      "     ----------------------------------- ---- 2.6/3.0 MB 969.6 kB/s eta 0:00:01\n",
      "     ----------------------------------- ---- 2.6/3.0 MB 973.4 kB/s eta 0:00:01\n",
      "     ------------------------------------ --- 2.7/3.0 MB 966.2 kB/s eta 0:00:01\n",
      "     ------------------------------------ --- 2.7/3.0 MB 964.7 kB/s eta 0:00:01\n",
      "     ------------------------------------ --- 2.7/3.0 MB 959.5 kB/s eta 0:00:01\n",
      "     ------------------------------------- -- 2.8/3.0 MB 958.1 kB/s eta 0:00:01\n",
      "     ------------------------------------- -- 2.8/3.0 MB 958.5 kB/s eta 0:00:01\n",
      "     -------------------------------------- - 2.9/3.0 MB 964.0 kB/s eta 0:00:01\n",
      "     -------------------------------------- - 2.9/3.0 MB 960.5 kB/s eta 0:00:01\n",
      "     ---------------------------------------  2.9/3.0 MB 956.1 kB/s eta 0:00:01\n",
      "     ---------------------------------------  2.9/3.0 MB 952.8 kB/s eta 0:00:01\n",
      "     ---------------------------------------  2.9/3.0 MB 945.0 kB/s eta 0:00:01\n",
      "     ---------------------------------------- 3.0/3.0 MB 937.2 kB/s eta 0:00:00\n",
      "  Installing build dependencies: started\n",
      "  Installing build dependencies: finished with status 'done'\n",
      "  Getting requirements to build wheel: started\n",
      "  Getting requirements to build wheel: finished with status 'done'\n",
      "  Preparing metadata (pyproject.toml): started\n",
      "  Preparing metadata (pyproject.toml): finished with status 'done'\n",
      "Requirement already satisfied: beautifulsoup4>=4.11.1 in c:\\users\\ankan mazumdar\\anaconda3\\lib\\site-packages (from yfinance) (4.12.2)\n",
      "Collecting html5lib>=1.1 (from yfinance)\n",
      "  Obtaining dependency information for html5lib>=1.1 from https://files.pythonhosted.org/packages/6c/dd/a834df6482147d48e225a49515aabc28974ad5a4ca3215c18a882565b028/html5lib-1.1-py2.py3-none-any.whl.metadata\n",
      "  Downloading html5lib-1.1-py2.py3-none-any.whl.metadata (16 kB)\n",
      "Requirement already satisfied: soupsieve>1.2 in c:\\users\\ankan mazumdar\\anaconda3\\lib\\site-packages (from beautifulsoup4>=4.11.1->yfinance) (2.4)\n",
      "Requirement already satisfied: six>=1.9 in c:\\users\\ankan mazumdar\\anaconda3\\lib\\site-packages (from html5lib>=1.1->yfinance) (1.16.0)\n",
      "Requirement already satisfied: webencodings in c:\\users\\ankan mazumdar\\anaconda3\\lib\\site-packages (from html5lib>=1.1->yfinance) (0.5.1)\n",
      "Requirement already satisfied: python-dateutil>=2.8.1 in c:\\users\\ankan mazumdar\\anaconda3\\lib\\site-packages (from pandas>=1.3.0->yfinance) (2.8.2)\n",
      "Requirement already satisfied: charset-normalizer<4,>=2 in c:\\users\\ankan mazumdar\\anaconda3\\lib\\site-packages (from requests>=2.31->yfinance) (2.0.4)\n",
      "Requirement already satisfied: idna<4,>=2.5 in c:\\users\\ankan mazumdar\\anaconda3\\lib\\site-packages (from requests>=2.31->yfinance) (3.4)\n",
      "Requirement already satisfied: urllib3<3,>=1.21.1 in c:\\users\\ankan mazumdar\\anaconda3\\lib\\site-packages (from requests>=2.31->yfinance) (1.26.16)\n",
      "Requirement already satisfied: certifi>=2017.4.17 in c:\\users\\ankan mazumdar\\anaconda3\\lib\\site-packages (from requests>=2.31->yfinance) (2023.7.22)\n",
      "Downloading yfinance-0.2.41-py2.py3-none-any.whl (73 kB)\n",
      "   ---------------------------------------- 0.0/73.5 kB ? eta -:--:--\n",
      "   ---------------------------------------- 73.5/73.5 kB 1.3 MB/s eta 0:00:00\n",
      "Downloading frozendict-2.4.4-py311-none-any.whl (16 kB)\n",
      "Downloading html5lib-1.1-py2.py3-none-any.whl (112 kB)\n",
      "   ---------------------------------------- 0.0/112.2 kB ? eta -:--:--\n",
      "   ---------------------------------------- 112.2/112.2 kB 3.3 MB/s eta 0:00:00\n",
      "Downloading multitasking-0.0.11-py3-none-any.whl (8.5 kB)\n",
      "Building wheels for collected packages: peewee\n",
      "  Building wheel for peewee (pyproject.toml): started\n",
      "  Building wheel for peewee (pyproject.toml): finished with status 'done'\n",
      "  Created wheel for peewee: filename=peewee-3.17.6-py3-none-any.whl size=138938 sha256=518b40f20959a0378f25d8eebbb46357bc6de32c51ef3d258473ffddc0bfe092\n",
      "  Stored in directory: c:\\users\\ankan mazumdar\\appdata\\local\\pip\\cache\\wheels\\1c\\09\\7e\\9f659fde248ecdc1722a142c1d744271aad3914a0afc191058\n",
      "Successfully built peewee\n",
      "Installing collected packages: peewee, multitasking, html5lib, frozendict, yfinance\n",
      "Successfully installed frozendict-2.4.4 html5lib-1.1 multitasking-0.0.11 peewee-3.17.6 yfinance-0.2.41\n",
      "\n"
     ]
    }
   ],
   "source": [
    "pip install yfinance"
   ]
  },
  {
   "cell_type": "code",
   "execution_count": 66,
   "id": "3632d61d",
   "metadata": {},
   "outputs": [
    {
     "name": "stderr",
     "output_type": "stream",
     "text": [
      "[*********************100%%**********************]  1 of 1 completed\n"
     ]
    },
    {
     "data": {
      "text/html": [
       "<div>\n",
       "<style scoped>\n",
       "    .dataframe tbody tr th:only-of-type {\n",
       "        vertical-align: middle;\n",
       "    }\n",
       "\n",
       "    .dataframe tbody tr th {\n",
       "        vertical-align: top;\n",
       "    }\n",
       "\n",
       "    .dataframe thead th {\n",
       "        text-align: right;\n",
       "    }\n",
       "</style>\n",
       "<table border=\"1\" class=\"dataframe\">\n",
       "  <thead>\n",
       "    <tr style=\"text-align: right;\">\n",
       "      <th></th>\n",
       "      <th>Date</th>\n",
       "      <th>Open</th>\n",
       "      <th>High</th>\n",
       "      <th>Low</th>\n",
       "      <th>Close</th>\n",
       "      <th>Adj Close</th>\n",
       "      <th>Volume</th>\n",
       "      <th>Market Cap</th>\n",
       "      <th>Ticker</th>\n",
       "    </tr>\n",
       "  </thead>\n",
       "  <tbody>\n",
       "    <tr>\n",
       "      <th>0</th>\n",
       "      <td>2019-07-24</td>\n",
       "      <td>98.464996</td>\n",
       "      <td>100.065002</td>\n",
       "      <td>98.293503</td>\n",
       "      <td>100.040497</td>\n",
       "      <td>100.040497</td>\n",
       "      <td>52626000</td>\n",
       "      <td>1939894304768</td>\n",
       "      <td>AMZN</td>\n",
       "    </tr>\n",
       "    <tr>\n",
       "      <th>1</th>\n",
       "      <td>2019-07-25</td>\n",
       "      <td>100.050003</td>\n",
       "      <td>100.059998</td>\n",
       "      <td>98.636002</td>\n",
       "      <td>98.691002</td>\n",
       "      <td>98.691002</td>\n",
       "      <td>82730000</td>\n",
       "      <td>1939894304768</td>\n",
       "      <td>AMZN</td>\n",
       "    </tr>\n",
       "    <tr>\n",
       "      <th>2</th>\n",
       "      <td>2019-07-26</td>\n",
       "      <td>97.099998</td>\n",
       "      <td>97.544998</td>\n",
       "      <td>96.225502</td>\n",
       "      <td>97.152496</td>\n",
       "      <td>97.152496</td>\n",
       "      <td>98542000</td>\n",
       "      <td>1939894304768</td>\n",
       "      <td>AMZN</td>\n",
       "    </tr>\n",
       "    <tr>\n",
       "      <th>3</th>\n",
       "      <td>2019-07-29</td>\n",
       "      <td>96.500000</td>\n",
       "      <td>96.611504</td>\n",
       "      <td>94.527000</td>\n",
       "      <td>95.622498</td>\n",
       "      <td>95.622498</td>\n",
       "      <td>89864000</td>\n",
       "      <td>1939894304768</td>\n",
       "      <td>AMZN</td>\n",
       "    </tr>\n",
       "    <tr>\n",
       "      <th>4</th>\n",
       "      <td>2019-07-30</td>\n",
       "      <td>94.556000</td>\n",
       "      <td>95.494499</td>\n",
       "      <td>94.174004</td>\n",
       "      <td>94.926498</td>\n",
       "      <td>94.926498</td>\n",
       "      <td>58218000</td>\n",
       "      <td>1939894304768</td>\n",
       "      <td>AMZN</td>\n",
       "    </tr>\n",
       "  </tbody>\n",
       "</table>\n",
       "</div>"
      ],
      "text/plain": [
       "         Date        Open        High        Low       Close   Adj Close  \\\n",
       "0  2019-07-24   98.464996  100.065002  98.293503  100.040497  100.040497   \n",
       "1  2019-07-25  100.050003  100.059998  98.636002   98.691002   98.691002   \n",
       "2  2019-07-26   97.099998   97.544998  96.225502   97.152496   97.152496   \n",
       "3  2019-07-29   96.500000   96.611504  94.527000   95.622498   95.622498   \n",
       "4  2019-07-30   94.556000   95.494499  94.174004   94.926498   94.926498   \n",
       "\n",
       "     Volume     Market Cap Ticker  \n",
       "0  52626000  1939894304768   AMZN  \n",
       "1  82730000  1939894304768   AMZN  \n",
       "2  98542000  1939894304768   AMZN  \n",
       "3  89864000  1939894304768   AMZN  \n",
       "4  58218000  1939894304768   AMZN  "
      ]
     },
     "execution_count": 66,
     "metadata": {},
     "output_type": "execute_result"
    }
   ],
   "source": [
    "import yfinance as yf\n",
    "import numpy as np\n",
    "# Function to download AMZN stock data\n",
    "def download_stock_data(stock_list):\n",
    "    stock_data = {}\n",
    "    for stock in stock_list:\n",
    "        data = yf.download(stock, period=\"5y\", interval=\"1d\")\n",
    "        if isinstance(data.index, pd.DatetimeIndex):\n",
    "            data.index = data.index.tz_localize(None)  # Check index type before localizing\n",
    "        data.reset_index(inplace=True)\n",
    "        stock_info = yf.Ticker(stock).info\n",
    "        market_cap = stock_info.get('marketCap', np.nan)\n",
    "        data['Market Cap'] = market_cap\n",
    "        data['Ticker'] = stock\n",
    "        stock_data[stock] = data\n",
    "    return stock_data\n",
    "\n",
    "# Download AMZN stock data\n",
    "stock_data = download_stock_data(['AMZN'])\n",
    "dfyf = stock_data['AMZN']\n",
    "# Convert Timestamp to string\n",
    "dfyf['Date'] = dfyf['Date'].astype(str)\n",
    "dfyf.head()"
   ]
  },
  {
   "cell_type": "code",
   "execution_count": 67,
   "id": "b78562b3",
   "metadata": {},
   "outputs": [
    {
     "data": {
      "text/plain": [
       "Date          1258\n",
       "Open          1258\n",
       "High          1258\n",
       "Low           1258\n",
       "Close         1258\n",
       "Adj Close     1258\n",
       "Volume        1258\n",
       "Market Cap    1258\n",
       "Ticker        1258\n",
       "dtype: int64"
      ]
     },
     "execution_count": 67,
     "metadata": {},
     "output_type": "execute_result"
    }
   ],
   "source": [
    "dfyf.count()"
   ]
  },
  {
   "cell_type": "code",
   "execution_count": 68,
   "id": "b655fdd0",
   "metadata": {},
   "outputs": [
    {
     "ename": "KeyboardInterrupt",
     "evalue": "",
     "output_type": "error",
     "traceback": [
      "\u001b[1;31m---------------------------------------------------------------------------\u001b[0m",
      "\u001b[1;31mKeyboardInterrupt\u001b[0m                         Traceback (most recent call last)",
      "Cell \u001b[1;32mIn[68], line 5\u001b[0m\n\u001b[0;32m      3\u001b[0m dict_stock \u001b[38;5;241m=\u001b[39m dfyf\u001b[38;5;241m.\u001b[39msample(\u001b[38;5;241m1\u001b[39m)\u001b[38;5;241m.\u001b[39mto_dict(orient\u001b[38;5;241m=\u001b[39m\u001b[38;5;124m\"\u001b[39m\u001b[38;5;124mrecords\u001b[39m\u001b[38;5;124m\"\u001b[39m)[\u001b[38;5;241m0\u001b[39m]\n\u001b[0;32m      4\u001b[0m producer\u001b[38;5;241m.\u001b[39msend(\u001b[38;5;124m'\u001b[39m\u001b[38;5;124mdemo_test2\u001b[39m\u001b[38;5;124m'\u001b[39m, value\u001b[38;5;241m=\u001b[39mdict_stock)\n\u001b[1;32m----> 5\u001b[0m sleep(\u001b[38;5;241m1\u001b[39m)\n",
      "\u001b[1;31mKeyboardInterrupt\u001b[0m: "
     ]
    }
   ],
   "source": [
    "# for _ in range(5):\n",
    "while True:\n",
    "    dict_stock = dfyf.sample(1).to_dict(orient=\"records\")[0]\n",
    "    producer.send('demo_test2', value=dict_stock)\n",
    "    sleep(1)  # Help this small machine by halting for 1 second to avoid breaking"
   ]
  },
  {
   "cell_type": "code",
   "execution_count": 69,
   "id": "76224623",
   "metadata": {},
   "outputs": [],
   "source": [
    "# Flush the producer to ensure all messages are sent\n",
    "producer.flush()"
   ]
  },
  {
   "cell_type": "code",
   "execution_count": 70,
   "id": "b47a7c83",
   "metadata": {},
   "outputs": [],
   "source": [
    "\n",
    "# Close the producer\n",
    "producer.close()"
   ]
  },
  {
   "cell_type": "markdown",
   "id": "c6cede41",
   "metadata": {},
   "source": []
  }
 ],
 "metadata": {
  "kernelspec": {
   "display_name": "Python 3 (ipykernel)",
   "language": "python",
   "name": "python3"
  },
  "language_info": {
   "codemirror_mode": {
    "name": "ipython",
    "version": 3
   },
   "file_extension": ".py",
   "mimetype": "text/x-python",
   "name": "python",
   "nbconvert_exporter": "python",
   "pygments_lexer": "ipython3",
   "version": "3.11.4"
  }
 },
 "nbformat": 4,
 "nbformat_minor": 5
}
